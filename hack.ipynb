{
 "cells": [
  {
   "cell_type": "code",
   "execution_count": 54,
   "id": "38f66355-01a0-491a-bc7c-a8311eed1953",
   "metadata": {},
   "outputs": [],
   "source": [
    "import pandas as pd\n",
    "import numpy as np\n",
    "import matplotlib.pyplot as plt\n",
    "import seaborn as sns\n",
    "from geopy.geocoders import Nominatim\n",
    "from geopy.exc import GeocoderTimedOut\n",
    "#from IPython.core.display import display, HTML\n",
    "import time\n"
   ]
  },
  {
   "cell_type": "code",
   "execution_count": 55,
   "id": "f2f324b4-04c2-4341-b99d-ec65f1140630",
   "metadata": {},
   "outputs": [
    {
     "name": "stdout",
     "output_type": "stream",
     "text": [
      "  online_order book_table   rate  votes            rest_type  \\\n",
      "0          Yes        Yes  4.1/5    775        Casual Dining   \n",
      "1          Yes         No  4.1/5    787        Casual Dining   \n",
      "2          Yes         No  3.8/5    918  Cafe, Casual Dining   \n",
      "3           No         No  3.7/5     88          Quick Bites   \n",
      "4           No         No  3.8/5    166        Casual Dining   \n",
      "\n",
      "                                          dish_liked  \\\n",
      "0  Pasta, Lunch Buffet, Masala Papad, Paneer Laja...   \n",
      "1  Momos, Lunch Buffet, Chocolate Nirvana, Thai G...   \n",
      "2  Churros, Cannelloni, Minestrone Soup, Hot Choc...   \n",
      "3                                        Masala Dosa   \n",
      "4                                Panipuri, Gol Gappe   \n",
      "\n",
      "                         cuisines approx_costfor_two_people listed_intype  \\\n",
      "0  North Indian, Mughlai, Chinese                       800        Buffet   \n",
      "1     Chinese, North Indian, Thai                       800        Buffet   \n",
      "2          Cafe, Mexican, Italian                       800        Buffet   \n",
      "3      South Indian, North Indian                       300        Buffet   \n",
      "4        North Indian, Rajasthani                       600        Buffet   \n",
      "\n",
      "  listed_incity  \n",
      "0  Banashankari  \n",
      "1  Banashankari  \n",
      "2  Banashankari  \n",
      "3  Banashankari  \n",
      "4  Banashankari  \n",
      "       listed_incity   Latitude  Longitude\n",
      "0       Banashankari  12.939333  77.553982\n",
      "1  Bannerghatta Road  12.952660  77.605048\n",
      "2       Basavanagudi  12.941726  77.575502\n",
      "3          Bellandur  12.925352  77.675941\n",
      "4       Brigade Road  12.967358  77.606435\n"
     ]
    }
   ],
   "source": [
    "\n",
    "zomato = pd.read_csv('zomato_data.csv')\n",
    "geo = pd.read_csv('Geo.csv')\n",
    "\n",
    "\n",
    "print(zomato.head())\n",
    "print(geo.head())"
   ]
  },
  {
   "cell_type": "code",
   "execution_count": 56,
   "id": "291e4f85-06b6-4247-9128-7a084b7d8dba",
   "metadata": {},
   "outputs": [
    {
     "name": "stdout",
     "output_type": "stream",
     "text": [
      "count    51717.000000\n",
      "mean         3.700362\n",
      "std          0.395391\n",
      "min          1.800000\n",
      "25%          3.500000\n",
      "50%          3.700000\n",
      "75%          3.900000\n",
      "max          4.900000\n",
      "Name: rate, dtype: float64\n"
     ]
    }
   ],
   "source": [
    "\n",
    "# Convert 'rate' to string\n",
    "zomato['rate'] = zomato['rate'].astype(str)\n",
    "\n",
    "# Replace '-' with NaN and remove '/5'\n",
    "zomato['rate'] = zomato['rate'].replace('-', np.nan)\n",
    "zomato['rate'] = zomato['rate'].str.replace('/5', '', regex=False)\n",
    "\n",
    "# Convert to numeric\n",
    "zomato['rate'] = pd.to_numeric(zomato['rate'], errors='coerce')\n",
    "\n",
    "# Fill missing values with the median rating\n",
    "median_rating = zomato['rate'].median()\n",
    "zomato['rate'] = zomato['rate'].fillna(median_rating)\n",
    "\n",
    "# Optional: View result\n",
    "print(zomato['rate'].describe())\n"
   ]
  },
  {
   "cell_type": "code",
   "execution_count": 57,
   "id": "91dc5575-fc48-4975-8825-8111114e2475",
   "metadata": {},
   "outputs": [
    {
     "name": "stdout",
     "output_type": "stream",
     "text": [
      "count    51717.000000\n",
      "mean       554.391689\n",
      "std        437.563723\n",
      "min         40.000000\n",
      "25%        300.000000\n",
      "50%        400.000000\n",
      "75%        650.000000\n",
      "max       6000.000000\n",
      "Name: approx_costfor_two_people, dtype: float64\n"
     ]
    }
   ],
   "source": [
    "# Convert to string and remove commas\n",
    "zomato['approx_costfor_two_people'] = zomato['approx_costfor_two_people'].astype(str)\n",
    "zomato['approx_costfor_two_people'] = zomato['approx_costfor_two_people'].str.replace(',', '', regex=False)\n",
    "\n",
    "# Convert to numeric (float)\n",
    "zomato['approx_costfor_two_people'] = pd.to_numeric(zomato['approx_costfor_two_people'], errors='coerce')\n",
    "\n",
    "# Fill missing values with the median cost\n",
    "median_cost = zomato['approx_costfor_two_people'].median()\n",
    "zomato['approx_costfor_two_people'] = zomato['approx_costfor_two_people'].fillna(median_cost)\n",
    "\n",
    "# Optional: View result\n",
    "print(zomato['approx_costfor_two_people'].describe())\n"
   ]
  },
  {
   "cell_type": "code",
   "execution_count": 58,
   "id": "6d0079b8-4bfe-4fd7-9fb1-3f66da5534bb",
   "metadata": {},
   "outputs": [],
   "source": [
    "# Replace NaN values in 'dish_liked' with \"Not Available\"\n",
    "zomato['dish_liked'] = zomato['dish_liked'].fillna('Not Available')\n",
    "\n",
    "# Replace NaN values in 'cuisines' with \"Other\"\n",
    "zomato['cuisines'] = zomato['cuisines'].fillna('Other')\n",
    "\n",
    "# Replace NaN values in 'rest_type' with \"Unknown\"\n",
    "zomato['rest_type'] = zomato['rest_type'].fillna('Unknown')\n"
   ]
  },
  {
   "cell_type": "code",
   "execution_count": 59,
   "id": "818cb7f9-eb33-494d-9e5f-28fdd6ec48ca",
   "metadata": {},
   "outputs": [
    {
     "name": "stdout",
     "output_type": "stream",
     "text": [
      "dish_liked    0\n",
      "cuisines      0\n",
      "rest_type     0\n",
      "dtype: int64\n"
     ]
    }
   ],
   "source": [
    "# Count remaining missing values in these columns\n",
    "print(zomato[['dish_liked', 'cuisines', 'rest_type']].isnull().sum())\n"
   ]
  },
  {
   "cell_type": "code",
   "execution_count": 60,
   "id": "ed5aa4b9-63c6-4c86-bf27-56159be771ca",
   "metadata": {},
   "outputs": [
    {
     "name": "stdout",
     "output_type": "stream",
     "text": [
      "                                      dish_liked  \\\n",
      "7224                               Not Available   \n",
      "1191                               Not Available   \n",
      "24483  Rolls, Chicken Momo, Biryani, Paneer Roll   \n",
      "47571                           Nutella Pancakes   \n",
      "8789                              Mutton Biryani   \n",
      "\n",
      "                                            cuisines           rest_type  \n",
      "7224   North Indian, South Indian, Chinese, Desserts  Takeaway, Delivery  \n",
      "1191                           Chinese, North Indian       Casual Dining  \n",
      "24483                        Fast Food, Rolls, Momos         Quick Bites  \n",
      "47571                            Desserts, Ice Cream      Dessert Parlor  \n",
      "8789                           Biryani, North Indian       Casual Dining  \n"
     ]
    }
   ],
   "source": [
    "# View a few rows to confirm the replacements\n",
    "print(zomato[['dish_liked', 'cuisines', 'rest_type']].sample(5))\n"
   ]
  },
  {
   "cell_type": "code",
   "execution_count": 61,
   "id": "73fa084f-fefc-4127-b191-5ce0a3129c02",
   "metadata": {},
   "outputs": [
    {
     "name": "stdout",
     "output_type": "stream",
     "text": [
      "0\n",
      "count    51717.000000\n",
      "mean       283.697527\n",
      "std        803.838853\n",
      "min          0.000000\n",
      "25%          7.000000\n",
      "50%         41.000000\n",
      "75%        198.000000\n",
      "max      16832.000000\n",
      "Name: votes, dtype: float64\n"
     ]
    }
   ],
   "source": [
    "# Convert to numeric just in case (optional safety step)\n",
    "zomato['votes'] = pd.to_numeric(zomato['votes'], errors='coerce')\n",
    "\n",
    "# Fill missing values with the median\n",
    "median_votes = zomato['votes'].median()\n",
    "zomato['votes'] = zomato['votes'].fillna(median_votes)\n",
    "\n",
    "# Optional: Confirm changes\n",
    "print(zomato['votes'].isnull().sum())\n",
    "print(zomato['votes'].describe())\n"
   ]
  },
  {
   "cell_type": "code",
   "execution_count": 62,
   "id": "ccbc5a48-496f-40f6-96b6-3a6f7f93d835",
   "metadata": {},
   "outputs": [
    {
     "name": "stdout",
     "output_type": "stream",
     "text": [
      "   online_order  book_table\n",
      "0             1           1\n",
      "1             1           0\n",
      "2             1           0\n",
      "3             0           0\n",
      "4             0           0\n"
     ]
    }
   ],
   "source": [
    "# Binary encoding: Yes → 1, No → 0\n",
    "zomato['online_order'] = zomato['online_order'].map({'Yes': 1, 'No': 0})\n",
    "zomato['book_table'] = zomato['book_table'].map({'Yes': 1, 'No': 0})\n",
    "\n",
    "# Optional: Confirm the changes\n",
    "print(zomato[['online_order', 'book_table']].head())\n"
   ]
  },
  {
   "cell_type": "code",
   "execution_count": 63,
   "id": "46bc1a35-5433-4e27-9bf3-0f4c8f1b927b",
   "metadata": {},
   "outputs": [
    {
     "name": "stdout",
     "output_type": "stream",
     "text": [
      "rate                         float64\n",
      "votes                          int32\n",
      "approx_costfor_two_people      int32\n",
      "dtype: object\n"
     ]
    }
   ],
   "source": [
    "# Convert 'rate' to float\n",
    "zomato['rate'] = zomato['rate'].astype(float)\n",
    "\n",
    "# Convert 'votes' to integer\n",
    "zomato['votes'] = zomato['votes'].astype(int)\n",
    "\n",
    "# Convert 'approx_costfor_two_people' to integer\n",
    "zomato['approx_costfor_two_people'] = zomato['approx_costfor_two_people'].astype(int)\n",
    "\n",
    "# Optional: Confirm data types\n",
    "print(zomato.dtypes[['rate', 'votes', 'approx_costfor_two_people']])\n"
   ]
  },
  {
   "cell_type": "code",
   "execution_count": 64,
   "id": "3b57b149-7a33-4390-8199-5c4c6d610cc9",
   "metadata": {},
   "outputs": [
    {
     "name": "stdout",
     "output_type": "stream",
     "text": [
      "(51717, 10)\n"
     ]
    }
   ],
   "source": [
    "print(zomato.shape)  # Outputs: (rows, columns)\n"
   ]
  },
  {
   "cell_type": "code",
   "execution_count": 65,
   "id": "15f608e3-e504-4dc1-91ed-93fb3874f705",
   "metadata": {},
   "outputs": [
    {
     "name": "stdout",
     "output_type": "stream",
     "text": [
      "(51717, 10)\n"
     ]
    }
   ],
   "source": [
    "print(zomato.shape)  \n"
   ]
  },
  {
   "cell_type": "code",
   "execution_count": 66,
   "id": "26090cba-f421-4e91-9b73-f84d3ee2b482",
   "metadata": {},
   "outputs": [
    {
     "name": "stdout",
     "output_type": "stream",
     "text": [
      "Number of restaurants serving North Indian cuisine: 21085\n"
     ]
    }
   ],
   "source": [
    "# Make sure to replace 'cuisines' with the actual column name in your dataset\n",
    "north_indian_count = zomato[zomato['cuisines'].str.contains('North Indian', case=False, na=False)].shape[0]\n",
    "\n",
    "print(f\"Number of restaurants serving North Indian cuisine: {north_indian_count}\")\n"
   ]
  },
  {
   "cell_type": "code",
   "execution_count": 67,
   "id": "fed2d336-366d-4042-879f-2291ccdbc9f8",
   "metadata": {},
   "outputs": [
    {
     "name": "stdout",
     "output_type": "stream",
     "text": [
      "\n",
      "✅ The most commonly offered cuisine across all neighborhoods in Bangalore is: **North Indian** (21085 restaurants)\n"
     ]
    }
   ],
   "source": [
    "import pandas as pd\n",
    "\n",
    "# Load the dataset\n",
    "df = pd.read_csv('zomato_data.csv')\n",
    "\n",
    "# List of Bangalore neighborhoods\n",
    "bangalore_neighborhoods = [\n",
    "    'Banashankari', 'Bannerghatta Road', 'Basavanagudi', 'Bellandur', 'Brigade Road', 'Brookefield', 'BTM',\n",
    "    'Church Street', 'Electronic City', 'Frazer Town', 'HSR', 'Indiranagar', 'Jayanagar', 'JP Nagar', 'Kalyan Nagar',\n",
    "    'Kammanahalli', 'Koramangala 4th Block', 'Koramangala 5th Block', 'Koramangala 6th Block', 'Koramangala 7th Block',\n",
    "    'Lavelle Road', 'Malleshwaram', 'Marathahalli', 'MG Road', 'New BEL Road', 'Old Airport Road', 'Rajajinagar',\n",
    "    'Residency Road', 'Sarjapur Road', 'Whitefield'\n",
    "]\n",
    "\n",
    "# Step 1: Filter for restaurants in the specified Bangalore neighborhoods\n",
    "bangalore_df = df[df['listed_incity'].str.lower().isin([neigh.lower() for neigh in bangalore_neighborhoods])]\n",
    "\n",
    "# Step 2: Check if any data was found\n",
    "if bangalore_df.empty:\n",
    "    raise ValueError(\"No restaurants found in the specified Bangalore neighborhoods.\")\n",
    "\n",
    "# Step 3: Make sure 'cuisines' column exists\n",
    "if 'cuisines' not in bangalore_df.columns:\n",
    "    raise ValueError(\"Column 'cuisines' not found in the dataset.\")\n",
    "\n",
    "# Step 4: Drop rows with missing cuisines\n",
    "bangalore_df = bangalore_df.dropna(subset=['cuisines'])\n",
    "\n",
    "# Step 5: Split cuisines, clean and count the occurrences of all cuisines\n",
    "cuisine_series = bangalore_df['cuisines'].str.split(',').explode().str.strip()\n",
    "cuisine_counts = cuisine_series.value_counts()\n",
    "\n",
    "# Step 6: Get the most common cuisine across all neighborhoods\n",
    "most_common_cuisine = cuisine_counts.idxmax()\n",
    "count = cuisine_counts.max()\n",
    "\n",
    "# Step 7: Output result\n",
    "print(f\"\\n✅ The most commonly offered cuisine across all neighborhoods in Bangalore is: **{most_common_cuisine}** ({count} restaurants)\")\n"
   ]
  },
  {
   "cell_type": "code",
   "execution_count": 68,
   "id": "81025f66-e9a4-49df-81bf-4f44e462efce",
   "metadata": {},
   "outputs": [
    {
     "name": "stdout",
     "output_type": "stream",
     "text": [
      "Columns in the dataset:\n",
      "Index(['online_order', 'book_table', 'rate', 'votes', 'rest_type',\n",
      "       'dish_liked', 'cuisines', 'approx_costfor_two_people', 'listed_intype',\n",
      "       'listed_incity'],\n",
      "      dtype='object')\n",
      "\n",
      "First few rows of the dataset:\n",
      "  online_order book_table   rate  votes            rest_type  \\\n",
      "0          Yes        Yes  4.1/5    775        Casual Dining   \n",
      "1          Yes         No  4.1/5    787        Casual Dining   \n",
      "2          Yes         No  3.8/5    918  Cafe, Casual Dining   \n",
      "3           No         No  3.7/5     88          Quick Bites   \n",
      "4           No         No  3.8/5    166        Casual Dining   \n",
      "\n",
      "                                          dish_liked  \\\n",
      "0  Pasta, Lunch Buffet, Masala Papad, Paneer Laja...   \n",
      "1  Momos, Lunch Buffet, Chocolate Nirvana, Thai G...   \n",
      "2  Churros, Cannelloni, Minestrone Soup, Hot Choc...   \n",
      "3                                        Masala Dosa   \n",
      "4                                Panipuri, Gol Gappe   \n",
      "\n",
      "                         cuisines approx_costfor_two_people listed_intype  \\\n",
      "0  North Indian, Mughlai, Chinese                       800        Buffet   \n",
      "1     Chinese, North Indian, Thai                       800        Buffet   \n",
      "2          Cafe, Mexican, Italian                       800        Buffet   \n",
      "3      South Indian, North Indian                       300        Buffet   \n",
      "4        North Indian, Rajasthani                       600        Buffet   \n",
      "\n",
      "  listed_incity  \n",
      "0  Banashankari  \n",
      "1  Banashankari  \n",
      "2  Banashankari  \n",
      "3  Banashankari  \n",
      "4  Banashankari  \n"
     ]
    }
   ],
   "source": [
    "import pandas as pd\n",
    "\n",
    "# Load the dataset\n",
    "df = pd.read_csv('zomato_data.csv')\n",
    "\n",
    "# Step 1: Print column names to inspect the available columns\n",
    "print(\"Columns in the dataset:\")\n",
    "print(df.columns)\n",
    "\n",
    "# Step 2: Print the first few rows of the dataset to inspect the data\n",
    "print(\"\\nFirst few rows of the dataset:\")\n",
    "print(df.head())\n"
   ]
  },
  {
   "cell_type": "code",
   "execution_count": 69,
   "id": "b6663992-77a6-40cf-ac75-974a3a650125",
   "metadata": {},
   "outputs": [
    {
     "name": "stdout",
     "output_type": "stream",
     "text": [
      "Rows after filtering by Bangalore neighborhoods: 51717\n",
      "\n",
      "Missing values in 'approx_costfor_two_people' column: 346\n",
      "\n",
      "Rows after dropping missing values: 51371\n",
      "\n",
      "Average cost per neighborhood:\n",
      "listed_incity\n",
      "BTM                      495.485145\n",
      "Banashankari             401.551564\n",
      "Bannerghatta Road        452.534077\n",
      "Basavanagudi             445.137549\n",
      "Bellandur                551.098361\n",
      "Brigade Road             767.091115\n",
      "Brookefield              521.246702\n",
      "Church Street            771.990104\n",
      "Electronic City          496.955102\n",
      "Frazer Town              558.237288\n",
      "HSR                      487.814302\n",
      "Indiranagar              654.753655\n",
      "JP Nagar                 459.774904\n",
      "Jayanagar                469.077053\n",
      "Kalyan Nagar             479.753657\n",
      "Kammanahalli             470.659591\n",
      "Koramangala 4th Block    528.353924\n",
      "Koramangala 5th Block    522.979026\n",
      "Koramangala 6th Block    521.340524\n",
      "Koramangala 7th Block    520.497598\n",
      "Lavelle Road             753.584873\n",
      "MG Road                  763.987696\n",
      "Malleshwaram             574.789762\n",
      "Marathahalli             498.232078\n",
      "New BEL Road             456.648575\n",
      "Old Airport Road         610.877698\n",
      "Rajajinagar              485.874649\n",
      "Residency Road           742.960723\n",
      "Sarjapur Road            542.102729\n",
      "Whitefield               579.159925\n",
      "Name: approx_costfor_two_people, dtype: float64\n",
      "\n",
      "✅ The locality in Bangalore with the highest average cost for dining for two people is: Church Street with an average cost of ₹771.99\n"
     ]
    }
   ],
   "source": [
    "import pandas as pd\n",
    "\n",
    "# Load the dataset\n",
    "df = pd.read_csv('zomato_data.csv')\n",
    "\n",
    "# List of Bangalore neighborhoods\n",
    "bangalore_neighborhoods = [\n",
    "    'Banashankari', 'Bannerghatta Road', 'Basavanagudi', 'Bellandur', 'Brigade Road', 'Brookefield', 'BTM',\n",
    "    'Church Street', 'Electronic City', 'Frazer Town', 'HSR', 'Indiranagar', 'Jayanagar', 'JP Nagar', 'Kalyan Nagar',\n",
    "    'Kammanahalli', 'Koramangala 4th Block', 'Koramangala 5th Block', 'Koramangala 6th Block', 'Koramangala 7th Block',\n",
    "    'Lavelle Road', 'Malleshwaram', 'Marathahalli', 'MG Road', 'New BEL Road', 'Old Airport Road', 'Rajajinagar',\n",
    "    'Residency Road', 'Sarjapur Road', 'Whitefield'\n",
    "]\n",
    "\n",
    "# Step 1: Filter for restaurants in the specified Bangalore neighborhoods\n",
    "bangalore_df = df[df['listed_incity'].str.lower().isin([neigh.lower() for neigh in bangalore_neighborhoods])]\n",
    "\n",
    "# Step 2: Check how many rows remain after filtering by neighborhood\n",
    "print(f\"Rows after filtering by Bangalore neighborhoods: {bangalore_df.shape[0]}\")\n",
    "\n",
    "# Step 3: Ensure the 'approx_costfor_two_people' column exists\n",
    "if 'approx_costfor_two_people' not in bangalore_df.columns:\n",
    "    raise ValueError(\"Column 'approx_costfor_two_people' not found in the dataset.\")\n",
    "\n",
    "# Step 4: Clean the 'approx_costfor_two_people' column\n",
    "# Remove any non-numeric characters (such as commas) and convert to numeric\n",
    "bangalore_df['approx_costfor_two_people'] = bangalore_df['approx_costfor_two_people'].replace({',': ''}, regex=True)\n",
    "bangalore_df['approx_costfor_two_people'] = pd.to_numeric(bangalore_df['approx_costfor_two_people'], errors='coerce')\n",
    "\n",
    "# Step 5: Check for missing values in the 'approx_costfor_two_people' column\n",
    "missing_cost_values = bangalore_df['approx_costfor_two_people'].isnull().sum()\n",
    "print(f\"\\nMissing values in 'approx_costfor_two_people' column: {missing_cost_values}\")\n",
    "\n",
    "# Step 6: Drop rows where 'approx_costfor_two_people' is missing\n",
    "bangalore_df = bangalore_df.dropna(subset=['approx_costfor_two_people'])\n",
    "\n",
    "# Step 7: Check if data exists after dropping NaNs\n",
    "print(f\"\\nRows after dropping missing values: {bangalore_df.shape[0]}\")\n",
    "\n",
    "# Step 8: Group by neighborhood and calculate the average cost for each\n",
    "avg_cost_per_neigh = bangalore_df.groupby('listed_incity')['approx_costfor_two_people'].mean()\n",
    "\n",
    "# Step 9: Check if the grouping resulted in any data\n",
    "print(\"\\nAverage cost per neighborhood:\")\n",
    "print(avg_cost_per_neigh)\n",
    "\n",
    "# Step 10: Find the neighborhood with the highest average cost\n",
    "if not avg_cost_per_neigh.empty:\n",
    "    highest_avg_cost_neigh = avg_cost_per_neigh.idxmax()\n",
    "    highest_avg_cost = avg_cost_per_neigh.max()\n",
    "\n",
    "    print(f\"\\n✅ The locality in Bangalore with the highest average cost for dining for two people is: {highest_avg_cost_neigh} with an average cost of ₹{highest_avg_cost:.2f}\")\n",
    "else:\n",
    "    print(\"No data found after grouping by neighborhood.\")\n"
   ]
  },
  {
   "cell_type": "code",
   "execution_count": 70,
   "id": "6a2d8cb0-0265-4441-9df4-1d3d6f6a3ad2",
   "metadata": {},
   "outputs": [
    {
     "name": "stdout",
     "output_type": "stream",
     "text": [
      "\n",
      "✅ The restaurant type with the highest rating (over 1000 votes) is: Bakery with an average rating of 4.80\n"
     ]
    },
    {
     "name": "stderr",
     "output_type": "stream",
     "text": [
      "C:\\Users\\Lenovo\\AppData\\Local\\Temp\\ipykernel_4180\\4036433179.py:11: SettingWithCopyWarning: \n",
      "A value is trying to be set on a copy of a slice from a DataFrame.\n",
      "Try using .loc[row_indexer,col_indexer] = value instead\n",
      "\n",
      "See the caveats in the documentation: https://pandas.pydata.org/pandas-docs/stable/user_guide/indexing.html#returning-a-view-versus-a-copy\n",
      "  df_filtered['rate'] = df_filtered['rate'].str.extract('([0-9.]+)').astype(float)\n"
     ]
    }
   ],
   "source": [
    "import pandas as pd\n",
    "\n",
    "# Load the dataset\n",
    "df = pd.read_csv('zomato_data.csv')\n",
    "\n",
    "# Step 1: Filter the dataset for restaurants with over 1000 votes\n",
    "df_filtered = df[df['votes'] > 1000]\n",
    "\n",
    "# Step 2: Ensure the 'rate' column exists and clean the ratings if needed\n",
    "# Convert the 'rate' column to numeric (remove '/5' or any other non-numeric characters)\n",
    "df_filtered['rate'] = df_filtered['rate'].str.extract('([0-9.]+)').astype(float)\n",
    "\n",
    "# Step 3: Group by restaurant type and calculate the average rating\n",
    "avg_rating_by_rest_type = df_filtered.groupby('rest_type')['rate'].mean()\n",
    "\n",
    "# Step 4: Find the restaurant type with the highest average rating\n",
    "top_rest_type = avg_rating_by_rest_type.idxmax()\n",
    "top_rating = avg_rating_by_rest_type.max()\n",
    "\n",
    "# Output the result\n",
    "print(f\"\\n✅ The restaurant type with the highest rating (over 1000 votes) is: {top_rest_type} with an average rating of {top_rating:.2f}\")\n"
   ]
  },
  {
   "cell_type": "code",
   "execution_count": 72,
   "id": "eaf2949b-e12f-4a05-a6f5-0aeca38fdb6f",
   "metadata": {},
   "outputs": [
    {
     "name": "stdout",
     "output_type": "stream",
     "text": [
      "✅ The minimum cost to eat out in Bangalore is ₹40\n",
      "\n",
      "🧾 Restaurants offering this price:\n",
      "           listed_incity                             cuisines  \\\n",
      "0           brigade road  South Indian, North Indian, Chinese   \n",
      "1          church street  South Indian, North Indian, Chinese   \n",
      "2            frazer town  South Indian, North Indian, Chinese   \n",
      "3            indiranagar  South Indian, North Indian, Chinese   \n",
      "4            indiranagar  South Indian, North Indian, Chinese   \n",
      "5  koramangala 4th block  South Indian, North Indian, Chinese   \n",
      "6  koramangala 5th block  South Indian, North Indian, Chinese   \n",
      "7  koramangala 6th block  South Indian, North Indian, Chinese   \n",
      "\n",
      "   approx_costfor_two_people  \n",
      "0                       40.0  \n",
      "1                       40.0  \n",
      "2                       40.0  \n",
      "3                       40.0  \n",
      "4                       40.0  \n",
      "5                       40.0  \n",
      "6                       40.0  \n",
      "7                       40.0  \n"
     ]
    }
   ],
   "source": [
    "import pandas as pd\n",
    "\n",
    "# Load your dataset\n",
    "df = pd.read_csv('zomato_data.csv')\n",
    "\n",
    "# Step 1: Normalize 'listed_incity' column\n",
    "df['listed_incity'] = df['listed_incity'].str.strip().str.lower()\n",
    "\n",
    "# Step 2: Define known Bangalore neighborhoods (lowercased)\n",
    "bangalore_neighborhoods = [\n",
    "    'banashankari', 'bannerghatta road', 'basavanagudi', 'bellandur', 'brigade road', 'brookefield', 'btm',\n",
    "    'church street', 'electronic city', 'frazer town', 'hsr', 'indiranagar', 'jayanagar', 'jp nagar', 'kalyan nagar',\n",
    "    'kammanahalli', 'koramangala 4th block', 'koramangala 5th block', 'koramangala 6th block', 'koramangala 7th block',\n",
    "    'lavelle road', 'malleshwaram', 'marathahalli', 'mg road', 'new bel road', 'old airport road', 'rajajinagar',\n",
    "    'residency road', 'sarjapur road', 'whitefield'\n",
    "]\n",
    "\n",
    "# Step 3: Filter for Bangalore-local restaurants\n",
    "bangalore_df = df[df['listed_incity'].isin(bangalore_neighborhoods)].copy()\n",
    "\n",
    "# Step 4: Clean cost column\n",
    "bangalore_df['approx_costfor_two_people'] = bangalore_df['approx_costfor_two_people'].astype(str).str.replace(',', '')\n",
    "bangalore_df['approx_costfor_two_people'] = pd.to_numeric(bangalore_df['approx_costfor_two_people'], errors='coerce')\n",
    "\n",
    "# Step 5: Drop rows with missing costs\n",
    "bangalore_df.dropna(subset=['approx_costfor_two_people'], inplace=True)\n",
    "\n",
    "# Step 6: Find the minimum cost\n",
    "min_cost = bangalore_df['approx_costfor_two_people'].min()\n",
    "\n",
    "# Step 7: Filter restaurants with the minimum cost\n",
    "cheapest_restaurants = bangalore_df[bangalore_df['approx_costfor_two_people'] == min_cost]\n",
    "\n",
    "# Step 8: Display result\n",
    "print(f\"✅ The minimum cost to eat out in Bangalore is ₹{min_cost:.0f}\")\n",
    "print(\"\\n🧾 Restaurants offering this price:\")\n",
    "print(cheapest_restaurants[['listed_incity', 'cuisines', 'approx_costfor_two_people']].reset_index(drop=True))\n"
   ]
  },
  {
   "cell_type": "code",
   "execution_count": 73,
   "id": "e8dd1ce6-b1c0-45c4-b5cb-6381f382a823",
   "metadata": {},
   "outputs": [
    {
     "name": "stdout",
     "output_type": "stream",
     "text": [
      "✅ Banashankari receives 1.79% of all online orders.\n"
     ]
    }
   ],
   "source": [
    "import pandas as pd\n",
    "\n",
    "# Load your dataset\n",
    "df = pd.read_csv(\"zomato_data.csv\")\n",
    "\n",
    "# Step 1: Clean 'listed_incity' and 'online_order'\n",
    "df['listed_incity'] = df['listed_incity'].astype(str).str.strip().str.lower()\n",
    "df['online_order'] = df['online_order'].astype(str).str.strip().str.lower()\n",
    "\n",
    "# Step 2: Filter for restaurants accepting online orders\n",
    "online_orders_df = df[df['online_order'] == 'yes']\n",
    "total_online_orders = len(online_orders_df)\n",
    "\n",
    "# Step 3: Filter Banashankari restaurants with online order\n",
    "banashankari_online = online_orders_df[online_orders_df['listed_incity'] == 'banashankari']\n",
    "banashankari_online_count = len(banashankari_online)\n",
    "\n",
    "# Step 4: Calculate percentage\n",
    "if total_online_orders > 0:\n",
    "    percentage = (banashankari_online_count / total_online_orders) * 100\n",
    "    print(f\"✅ Banashankari receives {percentage:.2f}% of all online orders.\")\n",
    "else:\n",
    "    print(\"⚠️ No online orders found in the dataset.\")\n"
   ]
  },
  {
   "cell_type": "code",
   "execution_count": 74,
   "id": "84e28e45-ba42-48d2-a4d8-76b31a6ba67f",
   "metadata": {},
   "outputs": [
    {
     "name": "stdout",
     "output_type": "stream",
     "text": [
      "✅ The locality with the most restaurants having >500 votes and rating <3.0 is: Brookefield (8 restaurants)\n"
     ]
    }
   ],
   "source": [
    "import pandas as pd\n",
    "\n",
    "# Load dataset\n",
    "df = pd.read_csv(\"zomato_data.csv\")\n",
    "\n",
    "# Step 1: Normalize city names and clean rating column\n",
    "df['listed_incity'] = df['listed_incity'].astype(str).str.strip().str.lower()\n",
    "df['rate'] = df['rate'].astype(str).str.extract('([0-9.]+)', expand=False).astype(float)\n",
    "df['votes'] = pd.to_numeric(df['votes'], errors='coerce')\n",
    "\n",
    "# Step 2: Filter for restaurants with > 500 votes and rating < 3.0\n",
    "filtered_df = df[(df['votes'] > 500) & (df['rate'] < 3.0)]\n",
    "\n",
    "# Step 3: Focus only on specified localities\n",
    "target_localities = ['bellandur', 'whitefield', 'brookefield', 'hsr']\n",
    "filtered_df = filtered_df[filtered_df['listed_incity'].isin(target_localities)]\n",
    "\n",
    "# Step 4: Count by locality\n",
    "locality_counts = filtered_df['listed_incity'].value_counts()\n",
    "\n",
    "# Step 5: Get the top one\n",
    "if not locality_counts.empty:\n",
    "    top_locality = locality_counts.idxmax()\n",
    "    count = locality_counts.max()\n",
    "    print(f\"✅ The locality with the most restaurants having >500 votes and rating <3.0 is: {top_locality.title()} ({count} restaurants)\")\n",
    "else:\n",
    "    print(\"⚠️ No restaurants found matching the criteria.\")\n"
   ]
  },
  {
   "cell_type": "code",
   "execution_count": 75,
   "id": "b19ffb22-7a62-4b75-ac46-89e6cf5e6741",
   "metadata": {},
   "outputs": [
    {
     "name": "stdout",
     "output_type": "stream",
     "text": [
      "✅ Zomato should target: Btm (with 62 unique restaurant types)\n"
     ]
    }
   ],
   "source": [
    "import pandas as pd\n",
    "\n",
    "# Load the dataset\n",
    "df = pd.read_csv(\"zomato_data.csv\")\n",
    "\n",
    "# Clean the 'listed_incity' and 'rest_type' columns\n",
    "df['listed_incity'] = df['listed_incity'].astype(str).str.strip().str.lower()\n",
    "df['rest_type'] = df['rest_type'].astype(str).str.strip()\n",
    "\n",
    "# Group by locality and count unique restaurant types\n",
    "rest_type_diversity = df.groupby('listed_incity')['rest_type'].nunique().sort_values(ascending=False)\n",
    "\n",
    "# Get the top locality\n",
    "top_locality = rest_type_diversity.idxmax()\n",
    "unique_count = rest_type_diversity.max()\n",
    "\n",
    "print(f\"✅ Zomato should target: {top_locality.title()} (with {unique_count} unique restaurant types)\")\n"
   ]
  },
  {
   "cell_type": "code",
   "execution_count": 76,
   "id": "95bf2867-59a8-4d42-ba0e-d91c04dd3a23",
   "metadata": {},
   "outputs": [
    {
     "name": "stdout",
     "output_type": "stream",
     "text": [
      "📊 Average Buffet Cost: ₹1306.66\n",
      "📦 Average Delivery Cost: ₹464.49\n",
      "✅ Average Cost Difference: ₹842.17\n"
     ]
    }
   ],
   "source": [
    "import pandas as pd\n",
    "\n",
    "# Load dataset\n",
    "df = pd.read_csv(\"zomato_data.csv\")\n",
    "\n",
    "# Step 1: Clean the columns\n",
    "df['listed_intype'] = df['listed_intype'].astype(str).str.strip().str.lower()\n",
    "df['approx_costfor_two_people'] = df['approx_costfor_two_people'].astype(str).str.replace(',', '').str.strip()\n",
    "\n",
    "# Step 2: Convert cost column to numeric\n",
    "df['approx_costfor_two_people'] = pd.to_numeric(df['approx_costfor_two_people'], errors='coerce')\n",
    "\n",
    "# Step 3: Filter Buffet and Delivery restaurants\n",
    "buffet_df = df[df['listed_intype'] == 'buffet']\n",
    "delivery_df = df[df['listed_intype'] == 'delivery']\n",
    "\n",
    "# Step 4: Calculate average costs\n",
    "buffet_avg = buffet_df['approx_costfor_two_people'].mean()\n",
    "delivery_avg = delivery_df['approx_costfor_two_people'].mean()\n",
    "\n",
    "# Step 5: Compute difference\n",
    "cost_difference = abs(buffet_avg - delivery_avg)\n",
    "\n",
    "# Display results\n",
    "print(f\"📊 Average Buffet Cost: ₹{buffet_avg:.2f}\")\n",
    "print(f\"📦 Average Delivery Cost: ₹{delivery_avg:.2f}\")\n",
    "print(f\"✅ Average Cost Difference: ₹{cost_difference:.2f}\")\n"
   ]
  },
  {
   "cell_type": "code",
   "execution_count": 77,
   "id": "86e1cc1d-90f9-4281-a58a-364ebf4b99dc",
   "metadata": {},
   "outputs": [
    {
     "name": "stdout",
     "output_type": "stream",
     "text": [
      "✅ The maximum number of votes received by any restaurant with online ordering: 16832\n"
     ]
    }
   ],
   "source": [
    "import pandas as pd\n",
    "\n",
    "# Load dataset\n",
    "df = pd.read_csv(\"zomato_data.csv\")\n",
    "\n",
    "# Step 1: Clean the 'online_order' column and ensure 'votes' is numeric\n",
    "df['online_order'] = df['online_order'].astype(str).str.strip().str.lower()\n",
    "df['votes'] = pd.to_numeric(df['votes'], errors='coerce')\n",
    "\n",
    "# Step 2: Filter for restaurants with online ordering enabled\n",
    "online_order_df = df[df['online_order'] == 'yes']\n",
    "\n",
    "# Step 3: Find the maximum number of votes for these restaurants\n",
    "max_votes = online_order_df['votes'].max()\n",
    "\n",
    "# Display the result\n",
    "print(f\"✅ The maximum number of votes received by any restaurant with online ordering: {max_votes}\")\n"
   ]
  },
  {
   "cell_type": "code",
   "execution_count": 78,
   "id": "a31732dc-12cf-41d9-92b2-e302fb3ba17f",
   "metadata": {},
   "outputs": [
    {
     "name": "stdout",
     "output_type": "stream",
     "text": [
      "✅ The average rating of restaurants serving both North Indian and Chinese cuisines is: 3.57\n"
     ]
    }
   ],
   "source": [
    "import pandas as pd\n",
    "\n",
    "# Load the dataset\n",
    "zomato_data = pd.read_csv(\"zomato_data.csv\")\n",
    "\n",
    "# Step 1: Clean and process columns\n",
    "zomato_data['cuisines'] = zomato_data['cuisines'].astype(str).str.lower()\n",
    "zomato_data['rate'] = zomato_data['rate'].astype(str).str.extract('([0-9.]+)', expand=False).astype(float)\n",
    "\n",
    "# Step 2: Filter for restaurants serving both North Indian and Chinese cuisines\n",
    "north_indian_chinese_df = zomato_data[zomato_data['cuisines'].str.contains('north indian') & zomato_data['cuisines'].str.contains('chinese')]\n",
    "\n",
    "# Step 3: Calculate the average rating\n",
    "average_rating = north_indian_chinese_df['rate'].mean()\n",
    "\n",
    "# Display the result\n",
    "print(f\"✅ The average rating of restaurants serving both North Indian and Chinese cuisines is: {average_rating:.2f}\")\n"
   ]
  },
  {
   "cell_type": "code",
   "execution_count": 80,
   "id": "6ec186c1-1116-4a6b-b856-d8b2c6c6ad3b",
   "metadata": {},
   "outputs": [
    {
     "name": "stdout",
     "output_type": "stream",
     "text": [
      "✅ The most profitable area for Zomato is: Koramangala 6Th Block with a strike rate of 13270051.47\n"
     ]
    }
   ],
   "source": [
    "import pandas as pd\n",
    "\n",
    "# Load the dataset\n",
    "zomato_data = pd.read_csv(\"zomato_data.csv\")\n",
    "\n",
    "# Step 1: Clean and process the columns\n",
    "zomato_data['listed_incity'] = zomato_data['listed_incity'].astype(str).str.strip().str.lower()\n",
    "zomato_data['approx_costfor_two_people'] = pd.to_numeric(zomato_data['approx_costfor_two_people'], errors='coerce')\n",
    "zomato_data['votes'] = pd.to_numeric(zomato_data['votes'], errors='coerce')\n",
    "\n",
    "# Step 2: Calculate potential revenue for each restaurant\n",
    "zomato_data['revenue'] = zomato_data['approx_costfor_two_people'] * zomato_data['votes']\n",
    "\n",
    "# Step 3: Group by locality and calculate total revenue and number of restaurants\n",
    "locality_stats = zomato_data.groupby('listed_incity').agg(\n",
    "    total_revenue=('revenue', 'sum'),\n",
    "    total_restaurants=('revenue', 'size')\n",
    ")\n",
    "\n",
    "# Step 4: Calculate strike rate for each locality (revenue per restaurant)\n",
    "locality_stats['strike_rate'] = (locality_stats['total_revenue'] / locality_stats['total_restaurants']) * 100\n",
    "\n",
    "# Step 5: Get the locality with the highest strike rate\n",
    "most_profitable_locality = locality_stats['strike_rate'].idxmax()\n",
    "highest_strike_rate = locality_stats['strike_rate'].max()\n",
    "\n",
    "# Display the result\n",
    "print(f\"✅ The most profitable area for Zomato is: {most_profitable_locality.title()} with a strike rate of {highest_strike_rate:.2f}\")\n"
   ]
  },
  {
   "cell_type": "code",
   "execution_count": 81,
   "id": "db12725c-f8ad-488f-99ae-a569338f4137",
   "metadata": {},
   "outputs": [
    {
     "name": "stdout",
     "output_type": "stream",
     "text": [
      "✅ The area where Zomato should invest is: Koramangala 7Th Block with 97 qualifying restaurants.\n"
     ]
    }
   ],
   "source": [
    "import pandas as pd\n",
    "\n",
    "# Load the dataset\n",
    "zomato_data = pd.read_csv(\"zomato_data.csv\")\n",
    "\n",
    "# Step 1: Clean the data\n",
    "zomato_data['rate'] = zomato_data['rate'].astype(str).str.extract('([0-9.]+)', expand=False).astype(float)\n",
    "zomato_data['online_order'] = zomato_data['online_order'].str.strip().str.lower()\n",
    "\n",
    "# Step 2: Filter data based on criteria\n",
    "filtered_data = zomato_data[\n",
    "    (zomato_data['rate'] > 4.2) & \n",
    "    (zomato_data['votes'] > 500) & \n",
    "    (zomato_data['online_order'] == 'yes')\n",
    "]\n",
    "\n",
    "# Step 3: Group by area (listed_incity or locality) and calculate the number of qualifying restaurants\n",
    "area_counts = filtered_data.groupby('listed_incity')['rate'].count()\n",
    "\n",
    "# Step 4: Identify the area with the maximum qualifying restaurants\n",
    "best_area = area_counts.idxmax()\n",
    "max_restaurants = area_counts.max()\n",
    "\n",
    "# Display the result\n",
    "print(f\"✅ The area where Zomato should invest is: {best_area.title()} with {max_restaurants} qualifying restaurants.\")\n",
    "\n"
   ]
  }
 ],
 "metadata": {
  "kernelspec": {
   "display_name": "Python 3 (ipykernel)",
   "language": "python",
   "name": "python3"
  },
  "language_info": {
   "codemirror_mode": {
    "name": "ipython",
    "version": 3
   },
   "file_extension": ".py",
   "mimetype": "text/x-python",
   "name": "python",
   "nbconvert_exporter": "python",
   "pygments_lexer": "ipython3",
   "version": "3.12.4"
  }
 },
 "nbformat": 4,
 "nbformat_minor": 5
}
